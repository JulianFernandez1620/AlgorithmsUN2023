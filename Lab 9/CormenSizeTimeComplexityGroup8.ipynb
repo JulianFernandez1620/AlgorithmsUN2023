{
  "nbformat": 4,
  "nbformat_minor": 0,
  "metadata": {
    "colab": {
      "provenance": []
    },
    "kernelspec": {
      "name": "python3",
      "display_name": "Python 3"
    },
    "language_info": {
      "name": "python"
    }
  },
  "cells": [
    {
      "cell_type": "markdown",
      "metadata": {
        "id": "I5UAAxG2_CqQ"
      },
      "source": [
        "# 0.(1 microsecond by instruction)\n",
        "Asuuming that you can execute a million instructions $10^6$ every second, i.e. each instruction takes one microsecond $1\\mu s=10^{-6}$ seconds. If you have algorithms take $\\bf{ Time\\ Complexity}$ steps to solve a problem of size $n$ as specified in column one. What is the size of the largest problem that you can solve in the time specified in row one?\n",
        "\n",
        "$$\n",
        "\\begin{array}{|c|c|c|c|c|c|c|c|}\n",
        " \\hline\n",
        " \\bf{ Time\\ Complexity} & Second  & Minute  & Hour & Day & Year & Century & Mileniun  \\\\\n",
        "  \\hline\\\\\n",
        "\\lg(n) &   2^{10^{6} }  &  2^{60 \\times 10^{6} } & 2^{3.6 \\times 10^{9}} &  2^{8.64 \\times 10^{10}}& 2^{3.1536 \\times 10^{13}} & 2^{3.1536 \\times 10^{15}} & 2^{3.1536 \\times 10^{16}}  \\\\\n",
        "   \\hline\\\\\n",
        "\\lg^2(n) &   2^{1000}  & 2^{7746}  & 2^{60000} & 2^{293939} & 2^{5615692} & 2^{56156923} &  2^{177583783}  \\\\\n",
        "   \\hline\\\\\n",
        "\\sqrt{n} &  10^{12}  & 3.6 \\times 10^{15}  & 1.296 \\times 10^{19} & 7.46496 \\times 10^{21}& 9.94519296 \\times 10^{26} & 9.94519296  \\times 10^{30} & 9.94519296 \\times 10^{32}  \\\\\n",
        " \\hline\n",
        " n & 10^{6}    & 6 \\times 10^{7}   & 3.6 \\times 10^{9} & 8.64 \\times 10^{10} & 6.41136862 \\times 10^{13} & 3.1536 \\times 10^{15} &  3.1536 \\times 10^{16}  \\\\\n",
        " \\hline\n",
        " n\\lg(n)  &  62746  & 2801417  &  133378058  & 2.75514751\\times 10^{9}  &  7.97633893 \\times 10^{11} & 6.86109568 \\times 10^{13} &  6.41136862\\times 10^{14} \\\\\n",
        " \\hline\n",
        " n^2 &   1000 &7746  &60000  & 293939 & 5615692 & 56156923 & 177583783 \\\\\n",
        " \\hline\n",
        "  n^3 &   100 &  391 &1533  & 4421 & 31594 & 146646 & 315938 \\\\\n",
        " \\hline\n",
        "  n^4 &   32 &  88 & 245 & 542 & 2370 & 7494 & 13326 \\\\\n",
        " \\hline\n",
        "  2^n &   19 &  25 & 31 & 36 & 44 & 51 & 54 \\\\\n",
        " \\hline\n",
        " n! &   9 &  11 & 12 & 13 & 16 & 17 & 18 \\\\\n",
        " \\hline\n",
        " n^n &   7 &  8 & 9 & 10 & 12 & 13 & 14 \\\\\n",
        " \\hline\n",
        "\\end{array}\n",
        "$$"
      ]
    }
  ]
}